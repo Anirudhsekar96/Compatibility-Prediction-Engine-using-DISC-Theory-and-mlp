{
 "cells": [
  {
   "cell_type": "code",
   "execution_count": 1,
   "metadata": {
    "collapsed": true
   },
   "outputs": [],
   "source": [
    "import numpy as np\n",
    "import pandas as pd\n",
    "import matplotlib.pyplot as plt\n",
    "%matplotlib inline\n",
    "from sklearn.linear_model import LogisticRegression\n",
    "from sklearn.preprocessing import StandardScaler\n",
    "from sklearn.decomposition import PCA\n",
    "from sklearn.pipeline import Pipeline\n",
    "from sklearn.model_selection import cross_val_predict\n",
    "from sklearn.metrics import classification_report,confusion_matrix\n",
    "from sklearn.model_selection import train_test_split\n",
    "from sklearn.ensemble import VotingClassifier\n",
    "from sklearn.externals import joblib\n",
    "from sklearn.ensemble import GradientBoostingClassifier\n",
    "from sklearn.metrics import log_loss\n"
   ]
  },
  {
   "cell_type": "code",
   "execution_count": 2,
   "metadata": {},
   "outputs": [],
   "source": [
    "df = pd.read_csv(\"Data_for_ML.csv\")\n",
    "#df.drop(df[[0]],axis=1,inplace=True)"
   ]
  },
  {
   "cell_type": "code",
   "execution_count": 3,
   "metadata": {},
   "outputs": [
    {
     "data": {
      "text/html": [
       "<div>\n",
       "<style>\n",
       "    .dataframe thead tr:only-child th {\n",
       "        text-align: right;\n",
       "    }\n",
       "\n",
       "    .dataframe thead th {\n",
       "        text-align: left;\n",
       "    }\n",
       "\n",
       "    .dataframe tbody tr th {\n",
       "        vertical-align: top;\n",
       "    }\n",
       "</style>\n",
       "<table border=\"1\" class=\"dataframe\">\n",
       "  <thead>\n",
       "    <tr style=\"text-align: right;\">\n",
       "      <th></th>\n",
       "      <th>Unnamed: 0</th>\n",
       "      <th>Op</th>\n",
       "      <th>i1</th>\n",
       "      <th>i10</th>\n",
       "      <th>i11</th>\n",
       "      <th>i12</th>\n",
       "      <th>i2</th>\n",
       "      <th>i3</th>\n",
       "      <th>i4</th>\n",
       "      <th>i5</th>\n",
       "      <th>i6</th>\n",
       "      <th>i7</th>\n",
       "      <th>i8</th>\n",
       "      <th>i9</th>\n",
       "    </tr>\n",
       "  </thead>\n",
       "  <tbody>\n",
       "    <tr>\n",
       "      <th>0</th>\n",
       "      <td>0</td>\n",
       "      <td>0.0</td>\n",
       "      <td>7</td>\n",
       "      <td>1</td>\n",
       "      <td>3</td>\n",
       "      <td>6</td>\n",
       "      <td>8</td>\n",
       "      <td>5</td>\n",
       "      <td>1</td>\n",
       "      <td>3</td>\n",
       "      <td>6</td>\n",
       "      <td>7</td>\n",
       "      <td>8</td>\n",
       "      <td>5</td>\n",
       "    </tr>\n",
       "    <tr>\n",
       "      <th>1</th>\n",
       "      <td>1</td>\n",
       "      <td>0.0</td>\n",
       "      <td>7</td>\n",
       "      <td>1</td>\n",
       "      <td>6</td>\n",
       "      <td>6</td>\n",
       "      <td>8</td>\n",
       "      <td>5</td>\n",
       "      <td>1</td>\n",
       "      <td>3</td>\n",
       "      <td>6</td>\n",
       "      <td>9</td>\n",
       "      <td>3</td>\n",
       "      <td>2</td>\n",
       "    </tr>\n",
       "    <tr>\n",
       "      <th>2</th>\n",
       "      <td>2</td>\n",
       "      <td>0.0</td>\n",
       "      <td>7</td>\n",
       "      <td>9</td>\n",
       "      <td>8</td>\n",
       "      <td>5</td>\n",
       "      <td>8</td>\n",
       "      <td>5</td>\n",
       "      <td>1</td>\n",
       "      <td>3</td>\n",
       "      <td>6</td>\n",
       "      <td>7</td>\n",
       "      <td>1</td>\n",
       "      <td>2</td>\n",
       "    </tr>\n",
       "    <tr>\n",
       "      <th>3</th>\n",
       "      <td>3</td>\n",
       "      <td>0.0</td>\n",
       "      <td>7</td>\n",
       "      <td>7</td>\n",
       "      <td>4</td>\n",
       "      <td>6</td>\n",
       "      <td>8</td>\n",
       "      <td>5</td>\n",
       "      <td>1</td>\n",
       "      <td>3</td>\n",
       "      <td>6</td>\n",
       "      <td>4</td>\n",
       "      <td>6</td>\n",
       "      <td>3</td>\n",
       "    </tr>\n",
       "    <tr>\n",
       "      <th>4</th>\n",
       "      <td>4</td>\n",
       "      <td>0.0</td>\n",
       "      <td>7</td>\n",
       "      <td>3</td>\n",
       "      <td>4</td>\n",
       "      <td>2</td>\n",
       "      <td>8</td>\n",
       "      <td>5</td>\n",
       "      <td>1</td>\n",
       "      <td>3</td>\n",
       "      <td>6</td>\n",
       "      <td>3</td>\n",
       "      <td>5</td>\n",
       "      <td>7</td>\n",
       "    </tr>\n",
       "  </tbody>\n",
       "</table>\n",
       "</div>"
      ],
      "text/plain": [
       "   Unnamed: 0   Op  i1  i10  i11  i12  i2  i3  i4  i5  i6  i7  i8  i9\n",
       "0           0  0.0   7    1    3    6   8   5   1   3   6   7   8   5\n",
       "1           1  0.0   7    1    6    6   8   5   1   3   6   9   3   2\n",
       "2           2  0.0   7    9    8    5   8   5   1   3   6   7   1   2\n",
       "3           3  0.0   7    7    4    6   8   5   1   3   6   4   6   3\n",
       "4           4  0.0   7    3    4    2   8   5   1   3   6   3   5   7"
      ]
     },
     "execution_count": 3,
     "metadata": {},
     "output_type": "execute_result"
    }
   ],
   "source": [
    "df.head()"
   ]
  },
  {
   "cell_type": "code",
   "execution_count": 4,
   "metadata": {
    "collapsed": true
   },
   "outputs": [],
   "source": [
    "df.drop(df[['Unnamed: 0']],axis=1,inplace=True)"
   ]
  },
  {
   "cell_type": "code",
   "execution_count": 5,
   "metadata": {},
   "outputs": [
    {
     "data": {
      "text/html": [
       "<div>\n",
       "<style>\n",
       "    .dataframe thead tr:only-child th {\n",
       "        text-align: right;\n",
       "    }\n",
       "\n",
       "    .dataframe thead th {\n",
       "        text-align: left;\n",
       "    }\n",
       "\n",
       "    .dataframe tbody tr th {\n",
       "        vertical-align: top;\n",
       "    }\n",
       "</style>\n",
       "<table border=\"1\" class=\"dataframe\">\n",
       "  <thead>\n",
       "    <tr style=\"text-align: right;\">\n",
       "      <th></th>\n",
       "      <th>Op</th>\n",
       "      <th>i1</th>\n",
       "      <th>i10</th>\n",
       "      <th>i11</th>\n",
       "      <th>i12</th>\n",
       "      <th>i2</th>\n",
       "      <th>i3</th>\n",
       "      <th>i4</th>\n",
       "      <th>i5</th>\n",
       "      <th>i6</th>\n",
       "      <th>i7</th>\n",
       "      <th>i8</th>\n",
       "      <th>i9</th>\n",
       "    </tr>\n",
       "  </thead>\n",
       "  <tbody>\n",
       "    <tr>\n",
       "      <th>0</th>\n",
       "      <td>0.0</td>\n",
       "      <td>7</td>\n",
       "      <td>1</td>\n",
       "      <td>3</td>\n",
       "      <td>6</td>\n",
       "      <td>8</td>\n",
       "      <td>5</td>\n",
       "      <td>1</td>\n",
       "      <td>3</td>\n",
       "      <td>6</td>\n",
       "      <td>7</td>\n",
       "      <td>8</td>\n",
       "      <td>5</td>\n",
       "    </tr>\n",
       "    <tr>\n",
       "      <th>1</th>\n",
       "      <td>0.0</td>\n",
       "      <td>7</td>\n",
       "      <td>1</td>\n",
       "      <td>6</td>\n",
       "      <td>6</td>\n",
       "      <td>8</td>\n",
       "      <td>5</td>\n",
       "      <td>1</td>\n",
       "      <td>3</td>\n",
       "      <td>6</td>\n",
       "      <td>9</td>\n",
       "      <td>3</td>\n",
       "      <td>2</td>\n",
       "    </tr>\n",
       "    <tr>\n",
       "      <th>2</th>\n",
       "      <td>0.0</td>\n",
       "      <td>7</td>\n",
       "      <td>9</td>\n",
       "      <td>8</td>\n",
       "      <td>5</td>\n",
       "      <td>8</td>\n",
       "      <td>5</td>\n",
       "      <td>1</td>\n",
       "      <td>3</td>\n",
       "      <td>6</td>\n",
       "      <td>7</td>\n",
       "      <td>1</td>\n",
       "      <td>2</td>\n",
       "    </tr>\n",
       "    <tr>\n",
       "      <th>3</th>\n",
       "      <td>0.0</td>\n",
       "      <td>7</td>\n",
       "      <td>7</td>\n",
       "      <td>4</td>\n",
       "      <td>6</td>\n",
       "      <td>8</td>\n",
       "      <td>5</td>\n",
       "      <td>1</td>\n",
       "      <td>3</td>\n",
       "      <td>6</td>\n",
       "      <td>4</td>\n",
       "      <td>6</td>\n",
       "      <td>3</td>\n",
       "    </tr>\n",
       "    <tr>\n",
       "      <th>4</th>\n",
       "      <td>0.0</td>\n",
       "      <td>7</td>\n",
       "      <td>3</td>\n",
       "      <td>4</td>\n",
       "      <td>2</td>\n",
       "      <td>8</td>\n",
       "      <td>5</td>\n",
       "      <td>1</td>\n",
       "      <td>3</td>\n",
       "      <td>6</td>\n",
       "      <td>3</td>\n",
       "      <td>5</td>\n",
       "      <td>7</td>\n",
       "    </tr>\n",
       "  </tbody>\n",
       "</table>\n",
       "</div>"
      ],
      "text/plain": [
       "    Op  i1  i10  i11  i12  i2  i3  i4  i5  i6  i7  i8  i9\n",
       "0  0.0   7    1    3    6   8   5   1   3   6   7   8   5\n",
       "1  0.0   7    1    6    6   8   5   1   3   6   9   3   2\n",
       "2  0.0   7    9    8    5   8   5   1   3   6   7   1   2\n",
       "3  0.0   7    7    4    6   8   5   1   3   6   4   6   3\n",
       "4  0.0   7    3    4    2   8   5   1   3   6   3   5   7"
      ]
     },
     "execution_count": 5,
     "metadata": {},
     "output_type": "execute_result"
    }
   ],
   "source": [
    "df.head()"
   ]
  },
  {
   "cell_type": "code",
   "execution_count": 6,
   "metadata": {},
   "outputs": [
    {
     "data": {
      "text/plain": [
       "(998001, 13)"
      ]
     },
     "execution_count": 6,
     "metadata": {},
     "output_type": "execute_result"
    }
   ],
   "source": [
    "df.shape"
   ]
  },
  {
   "cell_type": "code",
   "execution_count": 7,
   "metadata": {
    "collapsed": true
   },
   "outputs": [],
   "source": [
    "X = df.drop(['Op'],axis=1).values\n",
    "y = df['Op'].values\n",
    "\n",
    "X_train, X_test, y_train, y_test = train_test_split(X, y, test_size=0.2,random_state=42 ,stratify=y)"
   ]
  },
  {
   "cell_type": "code",
   "execution_count": 8,
   "metadata": {},
   "outputs": [
    {
     "name": "stdout",
     "output_type": "stream",
     "text": [
      "(798400, 12)\n",
      "(798400,)\n",
      "(199601, 12)\n",
      "(199601,)\n"
     ]
    }
   ],
   "source": [
    "print X_train.shape\n",
    "print y_train.shape\n",
    "print X_test.shape\n",
    "print y_test.shape"
   ]
  },
  {
   "cell_type": "code",
   "execution_count": 9,
   "metadata": {},
   "outputs": [],
   "source": [
    "X_train_1, X_val_1,Y_train_1,Y_val_1 = train_test_split(X_train, y_train, test_size=0.2,random_state=42 ,stratify=y_train)"
   ]
  },
  {
   "cell_type": "code",
   "execution_count": 10,
   "metadata": {},
   "outputs": [
    {
     "name": "stderr",
     "output_type": "stream",
     "text": [
      "Using TensorFlow backend.\n"
     ]
    }
   ],
   "source": [
    "from keras.models import Sequential\n",
    "from keras.layers import Dense\n",
    "from keras.utils import to_categorical\n",
    "from keras.callbacks import EarlyStopping\n"
   ]
  },
  {
   "cell_type": "code",
   "execution_count": 11,
   "metadata": {
    "collapsed": true
   },
   "outputs": [],
   "source": [
    "# model architechture\n",
    "def keras_model(train):\n",
    "    \n",
    "    input_dim = train.shape[1]\n",
    "    classes = 2\n",
    "    \n",
    "    model = Sequential()\n",
    "    model.add(Dense(64, activation = 'relu', input_shape = (input_dim,)))\n",
    "    model.add(Dense(64, activation = 'relu'))\n",
    "    model.add(Dense(64, activation = 'relu'))\n",
    "    model.add(Dense(64, activation = 'relu'))\n",
    "    model.add(Dense(classes, activation = 'softmax'))\n",
    "    model.compile(optimizer = 'adam', loss='binary_crossentropy',metrics = ['accuracy'])\n",
    "    return model\n",
    "\n",
    "callback = EarlyStopping(monitor='val_acc',patience=10)"
   ]
  },
  {
   "cell_type": "code",
   "execution_count": 12,
   "metadata": {},
   "outputs": [],
   "source": [
    "# one hot target columns\n",
    "Y_train_1 = to_categorical(Y_train_1)\n",
    "Y_val_1 = to_categorical(Y_val_1)"
   ]
  },
  {
   "cell_type": "code",
   "execution_count": 13,
   "metadata": {},
   "outputs": [
    {
     "name": "stdout",
     "output_type": "stream",
     "text": [
      "Train on 638720 samples, validate on 159680 samples\n",
      "Epoch 1/100\n",
      "638720/638720 [==============================] - 2s - loss: 0.0328 - acc: 0.9897 - val_loss: 0.0225 - val_acc: 0.9904\n",
      "Epoch 2/100\n",
      "638720/638720 [==============================] - 2s - loss: 0.0214 - acc: 0.9906 - val_loss: 0.0217 - val_acc: 0.9907\n",
      "Epoch 3/100\n",
      "638720/638720 [==============================] - 2s - loss: 0.0200 - acc: 0.9912 - val_loss: 0.0200 - val_acc: 0.9909\n",
      "Epoch 4/100\n",
      "638720/638720 [==============================] - 2s - loss: 0.0189 - acc: 0.9915 - val_loss: 0.0198 - val_acc: 0.9910\n",
      "Epoch 5/100\n",
      "638720/638720 [==============================] - 2s - loss: 0.0187 - acc: 0.9916 - val_loss: 0.0192 - val_acc: 0.9915\n",
      "Epoch 6/100\n",
      "638720/638720 [==============================] - 2s - loss: 0.0180 - acc: 0.9919 - val_loss: 0.0188 - val_acc: 0.9916\n",
      "Epoch 7/100\n",
      "638720/638720 [==============================] - 2s - loss: 0.0176 - acc: 0.9921 - val_loss: 0.0209 - val_acc: 0.9904\n",
      "Epoch 8/100\n",
      "638720/638720 [==============================] - 2s - loss: 0.0164 - acc: 0.9926 - val_loss: 0.0158 - val_acc: 0.9927\n",
      "Epoch 9/100\n",
      "638720/638720 [==============================] - 2s - loss: 0.0152 - acc: 0.9933 - val_loss: 0.0154 - val_acc: 0.9932\n",
      "Epoch 10/100\n",
      "638720/638720 [==============================] - 2s - loss: 0.0132 - acc: 0.9943 - val_loss: 0.0122 - val_acc: 0.9945\n",
      "Epoch 11/100\n",
      "638720/638720 [==============================] - 2s - loss: 0.0111 - acc: 0.9952 - val_loss: 0.0120 - val_acc: 0.9944\n",
      "Epoch 12/100\n",
      "638720/638720 [==============================] - 2s - loss: 0.0104 - acc: 0.9956 - val_loss: 0.0090 - val_acc: 0.9963\n",
      "Epoch 13/100\n",
      "638720/638720 [==============================] - 2s - loss: 0.0092 - acc: 0.9961 - val_loss: 0.0076 - val_acc: 0.9971\n",
      "Epoch 14/100\n",
      "638720/638720 [==============================] - 2s - loss: 0.0084 - acc: 0.9964 - val_loss: 0.0078 - val_acc: 0.9968\n",
      "Epoch 15/100\n",
      "638720/638720 [==============================] - 2s - loss: 0.0078 - acc: 0.9967 - val_loss: 0.0086 - val_acc: 0.9965\n",
      "Epoch 16/100\n",
      "638720/638720 [==============================] - 2s - loss: 0.0073 - acc: 0.9969 - val_loss: 0.0148 - val_acc: 0.9943\n",
      "Epoch 17/100\n",
      "638720/638720 [==============================] - 2s - loss: 0.0073 - acc: 0.9969 - val_loss: 0.0068 - val_acc: 0.9972\n",
      "Epoch 18/100\n",
      "638720/638720 [==============================] - 2s - loss: 0.0067 - acc: 0.9971 - val_loss: 0.0076 - val_acc: 0.9966\n",
      "Epoch 19/100\n",
      "638720/638720 [==============================] - 2s - loss: 0.0064 - acc: 0.9973 - val_loss: 0.0071 - val_acc: 0.9972\n",
      "Epoch 20/100\n",
      "638720/638720 [==============================] - 2s - loss: 0.0066 - acc: 0.9972 - val_loss: 0.0060 - val_acc: 0.9975\n",
      "Epoch 21/100\n",
      "638720/638720 [==============================] - 2s - loss: 0.0059 - acc: 0.9975 - val_loss: 0.0064 - val_acc: 0.9976\n",
      "Epoch 22/100\n",
      "638720/638720 [==============================] - 2s - loss: 0.0059 - acc: 0.9975 - val_loss: 0.0052 - val_acc: 0.9980\n",
      "Epoch 23/100\n",
      "638720/638720 [==============================] - 2s - loss: 0.0060 - acc: 0.9974 - val_loss: 0.0056 - val_acc: 0.9976\n",
      "Epoch 24/100\n",
      "638720/638720 [==============================] - 2s - loss: 0.0058 - acc: 0.9975 - val_loss: 0.0047 - val_acc: 0.9982\n",
      "Epoch 25/100\n",
      "638720/638720 [==============================] - 2s - loss: 0.0055 - acc: 0.9977 - val_loss: 0.0057 - val_acc: 0.9977\n",
      "Epoch 26/100\n",
      "638720/638720 [==============================] - 2s - loss: 0.0058 - acc: 0.9975 - val_loss: 0.0077 - val_acc: 0.9968\n",
      "Epoch 27/100\n",
      "638720/638720 [==============================] - 2s - loss: 0.0055 - acc: 0.9977 - val_loss: 0.0074 - val_acc: 0.9968\n",
      "Epoch 28/100\n",
      "638720/638720 [==============================] - 2s - loss: 0.0054 - acc: 0.9978 - val_loss: 0.0052 - val_acc: 0.9979\n",
      "Epoch 29/100\n",
      "638720/638720 [==============================] - 2s - loss: 0.0054 - acc: 0.9976 - val_loss: 0.0059 - val_acc: 0.9976\n",
      "Epoch 30/100\n",
      "638720/638720 [==============================] - 2s - loss: 0.0054 - acc: 0.9977 - val_loss: 0.0068 - val_acc: 0.9968\n",
      "Epoch 31/100\n",
      "638720/638720 [==============================] - 2s - loss: 0.0050 - acc: 0.9980 - val_loss: 0.0049 - val_acc: 0.9980\n",
      "Epoch 32/100\n",
      "638720/638720 [==============================] - 2s - loss: 0.0055 - acc: 0.9978 - val_loss: 0.0059 - val_acc: 0.9975\n",
      "Epoch 33/100\n",
      "638720/638720 [==============================] - 2s - loss: 0.0050 - acc: 0.9979 - val_loss: 0.0062 - val_acc: 0.9974\n",
      "Epoch 34/100\n",
      "638720/638720 [==============================] - 2s - loss: 0.0051 - acc: 0.9979 - val_loss: 0.0047 - val_acc: 0.9981\n",
      "Epoch 35/100\n",
      "638720/638720 [==============================] - 2s - loss: 0.0046 - acc: 0.9981 - val_loss: 0.0045 - val_acc: 0.9983\n",
      "Epoch 36/100\n",
      "638720/638720 [==============================] - 2s - loss: 0.0047 - acc: 0.9980 - val_loss: 0.0078 - val_acc: 0.9965\n",
      "Epoch 37/100\n",
      "638720/638720 [==============================] - 2s - loss: 0.0047 - acc: 0.9980 - val_loss: 0.0056 - val_acc: 0.9976\n",
      "Epoch 38/100\n",
      "638720/638720 [==============================] - 2s - loss: 0.0050 - acc: 0.9979 - val_loss: 0.0041 - val_acc: 0.9984\n",
      "Epoch 39/100\n",
      "638720/638720 [==============================] - 2s - loss: 0.0048 - acc: 0.9980 - val_loss: 0.0046 - val_acc: 0.9981\n",
      "Epoch 40/100\n",
      "638720/638720 [==============================] - 2s - loss: 0.0046 - acc: 0.9981 - val_loss: 0.0057 - val_acc: 0.9978\n",
      "Epoch 41/100\n",
      "638720/638720 [==============================] - 2s - loss: 0.0047 - acc: 0.9981 - val_loss: 0.0061 - val_acc: 0.9974\n",
      "Epoch 42/100\n",
      "638720/638720 [==============================] - 2s - loss: 0.0054 - acc: 0.9977 - val_loss: 0.0043 - val_acc: 0.9982\n",
      "Epoch 43/100\n",
      "638720/638720 [==============================] - 2s - loss: 0.0042 - acc: 0.9983 - val_loss: 0.0044 - val_acc: 0.9982\n",
      "Epoch 44/100\n",
      "638720/638720 [==============================] - 2s - loss: 0.0044 - acc: 0.9982 - val_loss: 0.0159 - val_acc: 0.9949\n",
      "Epoch 45/100\n",
      "638720/638720 [==============================] - 2s - loss: 0.0045 - acc: 0.9982 - val_loss: 0.0048 - val_acc: 0.9981\n",
      "Epoch 46/100\n",
      "638720/638720 [==============================] - 2s - loss: 0.0043 - acc: 0.9982 - val_loss: 0.0061 - val_acc: 0.9974\n",
      "Epoch 47/100\n",
      "638720/638720 [==============================] - 2s - loss: 0.0046 - acc: 0.9981 - val_loss: 0.0075 - val_acc: 0.9971\n",
      "Epoch 48/100\n",
      "638720/638720 [==============================] - 2s - loss: 0.0042 - acc: 0.9982 - val_loss: 0.0037 - val_acc: 0.9986\n",
      "Epoch 49/100\n",
      "638720/638720 [==============================] - 2s - loss: 0.0044 - acc: 0.9982 - val_loss: 0.0056 - val_acc: 0.9976\n",
      "Epoch 50/100\n",
      "638720/638720 [==============================] - 2s - loss: 0.0040 - acc: 0.9984 - val_loss: 0.0040 - val_acc: 0.9984\n",
      "Epoch 51/100\n",
      "638720/638720 [==============================] - 2s - loss: 0.0039 - acc: 0.9985 - val_loss: 0.0066 - val_acc: 0.9973\n",
      "Epoch 52/100\n",
      "638720/638720 [==============================] - 2s - loss: 0.0045 - acc: 0.9982 - val_loss: 0.0052 - val_acc: 0.9977\n",
      "Epoch 53/100\n",
      "638720/638720 [==============================] - 2s - loss: 0.0040 - acc: 0.9984 - val_loss: 0.0053 - val_acc: 0.9978\n",
      "Epoch 54/100\n",
      "638720/638720 [==============================] - 2s - loss: 0.0041 - acc: 0.9983 - val_loss: 0.0044 - val_acc: 0.9983\n",
      "Epoch 55/100\n",
      "638720/638720 [==============================] - 2s - loss: 0.0041 - acc: 0.9983 - val_loss: 0.0042 - val_acc: 0.9983\n",
      "Epoch 56/100\n",
      "638720/638720 [==============================] - 2s - loss: 0.0043 - acc: 0.9983 - val_loss: 0.0067 - val_acc: 0.9975\n",
      "Epoch 57/100\n",
      "638720/638720 [==============================] - 2s - loss: 0.0037 - acc: 0.9985 - val_loss: 0.0037 - val_acc: 0.9984\n",
      "Epoch 58/100\n",
      "638720/638720 [==============================] - 2s - loss: 0.0037 - acc: 0.9985 - val_loss: 0.0058 - val_acc: 0.9976\n",
      "Epoch 59/100\n",
      "638720/638720 [==============================] - 2s - loss: 0.0039 - acc: 0.9984 - val_loss: 0.0055 - val_acc: 0.9977\n"
     ]
    }
   ],
   "source": [
    "# train model\n",
    "model = keras_model(X_train_1)\n",
    "history = model.fit(X_train_1, Y_train_1, 1000, 100, callbacks=[callback],validation_data=(X_val_1, Y_val_1),shuffle=True)"
   ]
  },
  {
   "cell_type": "code",
   "execution_count": 14,
   "metadata": {
    "collapsed": true
   },
   "outputs": [],
   "source": [
    "pred_ker = model.predict(X_test).round()"
   ]
  },
  {
   "cell_type": "code",
   "execution_count": 15,
   "metadata": {},
   "outputs": [
    {
     "data": {
      "text/plain": [
       "1.0"
      ]
     },
     "execution_count": 15,
     "metadata": {},
     "output_type": "execute_result"
    }
   ],
   "source": [
    "pred_ker.max()"
   ]
  },
  {
   "cell_type": "code",
   "execution_count": 16,
   "metadata": {},
   "outputs": [
    {
     "data": {
      "text/plain": [
       "0.0"
      ]
     },
     "execution_count": 16,
     "metadata": {},
     "output_type": "execute_result"
    }
   ],
   "source": [
    "pred_ker.min()"
   ]
  },
  {
   "cell_type": "code",
   "execution_count": 17,
   "metadata": {},
   "outputs": [
    {
     "data": {
      "text/plain": [
       "0.0"
      ]
     },
     "execution_count": 17,
     "metadata": {},
     "output_type": "execute_result"
    }
   ],
   "source": [
    "y_test.min()"
   ]
  },
  {
   "cell_type": "code",
   "execution_count": 18,
   "metadata": {},
   "outputs": [
    {
     "data": {
      "text/plain": [
       "1.0"
      ]
     },
     "execution_count": 18,
     "metadata": {},
     "output_type": "execute_result"
    }
   ],
   "source": [
    "y_test.max()"
   ]
  },
  {
   "cell_type": "code",
   "execution_count": 19,
   "metadata": {},
   "outputs": [
    {
     "name": "stdout",
     "output_type": "stream",
     "text": [
      "[[197204    204]\n",
      " [   276   1917]]\n",
      "             precision    recall  f1-score   support\n",
      "\n",
      "        0.0       1.00      1.00      1.00    197408\n",
      "        1.0       0.90      0.87      0.89      2193\n",
      "\n",
      "avg / total       1.00      1.00      1.00    199601\n",
      "\n"
     ]
    }
   ],
   "source": [
    "#score_ker = model.score(X_test,y_test)\n",
    "#print score_mlp\n",
    "\n",
    "print(confusion_matrix(y_test,pred_ker[:,1]))\n",
    "print(classification_report(y_test,pred_ker[:,1]))\n"
   ]
  },
  {
   "cell_type": "code",
   "execution_count": 20,
   "metadata": {},
   "outputs": [
    {
     "data": {
      "image/png": "[encoded data removed]",
      "text/plain": [
       "<matplotlib.figure.Figure at 0x7fd743324850>"
      ]
     },
     "metadata": {},
     "output_type": "display_data"
    }
   ],
   "source": [
    "import matplotlib.pyplot as plt\n",
    "%matplotlib inline\n",
    "plt.plot(history.history['acc'])\n",
    "plt.plot(history.history['val_acc'])\n",
    "plt.title('model accuracy')\n",
    "plt.ylabel('accuracy')\n",
    "plt.xlabel('epoch')\n",
    "plt.legend(['train', 'test'], loc='upper left')\n",
    "plt.show()"
   ]
  },
  {
   "cell_type": "code",
   "execution_count": 21,
   "metadata": {},
   "outputs": [
    {
     "data": {
      "image/png": "[encoded data removed]",
      "text/plain": [
       "<matplotlib.figure.Figure at 0x7fd6e4754a50>"
      ]
     },
     "metadata": {},
     "output_type": "display_data"
    }
   ],
   "source": [
    "plt.plot(history.history['loss'])\n",
    "plt.plot(history.history['val_loss'])\n",
    "plt.title('model loss')\n",
    "plt.ylabel('loss')\n",
    "plt.xlabel('epoch')\n",
    "plt.legend(['train', 'test'], loc='upper left')\n",
    "plt.show()\n",
    "\n"
   ]
  },
  {
   "cell_type": "code",
   "execution_count": 22,
   "metadata": {},
   "outputs": [
    {
     "data": {
      "image/png": "[encoded data removed]",
      "text/plain": [
       "<matplotlib.figure.Figure at 0x7fd6e4635e90>"
      ]
     },
     "metadata": {},
     "output_type": "display_data"
    }
   ],
   "source": [
    "plt.plot(history.history['acc'])\n",
    "plt.plot(history.history['val_acc'])\n",
    "plt.title('model accuracy')\n",
    "plt.ylabel('accuracy')\n",
    "plt.xlabel('epoch')\n",
    "plt.legend(['train', 'test'], loc='upper left')\n",
    "plt.savefig('accuracy.png', dpi=1200)\n",
    "plt.show()"
   ]
  },
  {
   "cell_type": "code",
   "execution_count": 23,
   "metadata": {},
   "outputs": [
    {
     "data": {
      "image/png": "[encoded data removed]",
      "text/plain": [
       "<matplotlib.figure.Figure at 0x7fd6dc63b4d0>"
      ]
     },
     "metadata": {},
     "output_type": "display_data"
    }
   ],
   "source": [
    "plt.plot(history.history['loss'])\n",
    "plt.plot(history.history['val_loss'])\n",
    "plt.title('model loss')\n",
    "plt.ylabel('loss')\n",
    "plt.xlabel('epoch')\n",
    "plt.legend(['train', 'test'], loc='upper left')\n",
    "plt.savefig('loss.png', dpi=1200)\n",
    "plt.show()\n"
   ]
  },
  {
   "cell_type": "code",
   "execution_count": null,
   "metadata": {
    "collapsed": true
   },
   "outputs": [],
   "source": []
  }
 ],
 "metadata": {
  "kernelspec": {
   "display_name": "Python 2",
   "language": "python",
   "name": "python2"
  },
  "language_info": {
   "codemirror_mode": {
    "name": "ipython",
    "version": 2
   },
   "file_extension": ".py",
   "mimetype": "text/x-python",
   "name": "python",
   "nbconvert_exporter": "python",
   "pygments_lexer": "ipython2",
   "version": "2.7.13"
  }
 },
 "nbformat": 4,
 "nbformat_minor": 2
}
